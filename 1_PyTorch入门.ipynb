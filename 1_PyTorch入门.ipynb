{
 "cells": [
  {
   "cell_type": "code",
   "execution_count": 1,
   "metadata": {
    "collapsed": true
   },
   "outputs": [],
   "source": [
    "from __future__ import print_function\n",
    "import torch"
   ]
  },
  {
   "cell_type": "code",
   "execution_count": 2,
   "metadata": {
    "collapsed": true
   },
   "outputs": [],
   "source": [
    "# 1 构造一个 5x3矩阵，不进行初始化\n",
    "x = torch.empty (5, 3)"
   ]
  },
  {
   "cell_type": "code",
   "execution_count": 3,
   "metadata": {},
   "outputs": [
    {
     "name": "stdout",
     "output_type": "stream",
     "text": [
      "tensor([[-8.7341e+25,  4.5579e-41, -8.7341e+25],\n",
      "        [ 4.5579e-41,  2.6491e+23,  4.5579e-41],\n",
      "        [-4.4392e+26,  4.5579e-41, -4.5065e+26],\n",
      "        [ 4.5579e-41, -4.5617e+26,  4.5579e-41],\n",
      "        [-4.3516e+26,  4.5579e-41, -4.3803e+26]])\n"
     ]
    }
   ],
   "source": [
    "print (x)"
   ]
  },
  {
   "cell_type": "code",
   "execution_count": 4,
   "metadata": {
    "collapsed": true
   },
   "outputs": [],
   "source": [
    "# 2 随机初始化矩阵\n",
    "x = torch.rand (5, 3)"
   ]
  },
  {
   "cell_type": "code",
   "execution_count": 5,
   "metadata": {},
   "outputs": [
    {
     "name": "stdout",
     "output_type": "stream",
     "text": [
      "tensor([[0.0959, 0.7021, 0.1818],\n",
      "        [0.1734, 0.6060, 0.4043],\n",
      "        [0.5852, 0.8788, 0.0811],\n",
      "        [0.5742, 0.6387, 0.8992],\n",
      "        [0.6695, 0.0530, 0.1408]])\n"
     ]
    }
   ],
   "source": [
    "print (x)"
   ]
  },
  {
   "cell_type": "code",
   "execution_count": 6,
   "metadata": {
    "collapsed": true
   },
   "outputs": [],
   "source": [
    "# 3 构造一个矩阵全为0，而且数据类型是long\n",
    "x = torch.zeros (5, 3, dtype=torch.long)"
   ]
  },
  {
   "cell_type": "code",
   "execution_count": 7,
   "metadata": {},
   "outputs": [
    {
     "name": "stdout",
     "output_type": "stream",
     "text": [
      "tensor([[0, 0, 0],\n",
      "        [0, 0, 0],\n",
      "        [0, 0, 0],\n",
      "        [0, 0, 0],\n",
      "        [0, 0, 0]])\n"
     ]
    }
   ],
   "source": [
    "print (x)"
   ]
  },
  {
   "cell_type": "code",
   "execution_count": 8,
   "metadata": {
    "collapsed": true
   },
   "outputs": [],
   "source": [
    "# 4 构造一个张量\n",
    "x = torch.tensor([5.5, 3])"
   ]
  },
  {
   "cell_type": "code",
   "execution_count": 9,
   "metadata": {},
   "outputs": [
    {
     "name": "stdout",
     "output_type": "stream",
     "text": [
      "tensor([5.5000, 3.0000])\n"
     ]
    }
   ],
   "source": [
    "print (x)"
   ]
  },
  {
   "cell_type": "code",
   "execution_count": 10,
   "metadata": {},
   "outputs": [
    {
     "name": "stdout",
     "output_type": "stream",
     "text": [
      "tensor([[1., 1., 1.],\n",
      "        [1., 1., 1.],\n",
      "        [1., 1., 1.],\n",
      "        [1., 1., 1.],\n",
      "        [1., 1., 1.]], dtype=torch.float64)\n",
      "tensor([[0.4625, 0.1904, 0.5519],\n",
      "        [0.2882, 0.4843, 0.9084],\n",
      "        [0.5100, 0.0850, 0.9746],\n",
      "        [0.0932, 0.2737, 0.8926],\n",
      "        [0.5581, 0.3204, 0.0821]], dtype=torch.float64)\n"
     ]
    }
   ],
   "source": [
    "# 5 创建一个tensor，并且生成一个相似结构的tensor\n",
    "x = x.new_ones (5, 3, dtype = torch.double)\n",
    "print (x)\n",
    "x = torch.rand_like (x, dtype = torch.float64)\n",
    "print (x)"
   ]
  },
  {
   "cell_type": "code",
   "execution_count": 11,
   "metadata": {},
   "outputs": [
    {
     "data": {
      "text/plain": [
       "torch.Size([5, 3])"
      ]
     },
     "execution_count": 11,
     "metadata": {},
     "output_type": "execute_result"
    }
   ],
   "source": [
    "# 5 获取维度信息\n",
    "x.size()"
   ]
  },
  {
   "cell_type": "code",
   "execution_count": 13,
   "metadata": {},
   "outputs": [],
   "source": [
    "# 6 加法操作\n",
    "y = torch.rand (5, 3)"
   ]
  },
  {
   "cell_type": "code",
   "execution_count": 14,
   "metadata": {},
   "outputs": [
    {
     "data": {
      "text/plain": [
       "tensor([[0.2242, 0.2589, 0.2627],\n",
       "        [0.9779, 0.9012, 0.3729],\n",
       "        [0.0082, 0.5171, 0.1043],\n",
       "        [0.8079, 0.5328, 0.9974],\n",
       "        [0.7054, 0.8643, 0.1676]])"
      ]
     },
     "execution_count": 14,
     "metadata": {},
     "output_type": "execute_result"
    }
   ],
   "source": [
    "y"
   ]
  },
  {
   "cell_type": "code",
   "execution_count": 15,
   "metadata": {},
   "outputs": [
    {
     "name": "stdout",
     "output_type": "stream",
     "text": [
      "tensor([[0.6868, 0.4493, 0.8145],\n",
      "        [1.2662, 1.3855, 1.2813],\n",
      "        [0.5182, 0.6021, 1.0789],\n",
      "        [0.9012, 0.8065, 1.8899],\n",
      "        [1.2635, 1.1847, 0.2498]], dtype=torch.float64)\n"
     ]
    }
   ],
   "source": [
    "print (x + y)"
   ]
  },
  {
   "cell_type": "code",
   "execution_count": 16,
   "metadata": {},
   "outputs": [
    {
     "name": "stdout",
     "output_type": "stream",
     "text": [
      "tensor([[0.6868, 0.4493, 0.8145],\n",
      "        [1.2662, 1.3855, 1.2813],\n",
      "        [0.5182, 0.6021, 1.0789],\n",
      "        [0.9012, 0.8065, 1.8899],\n",
      "        [1.2635, 1.1847, 0.2498]])\n"
     ]
    }
   ],
   "source": [
    "# 6.1 提供一个参数进行相加\n",
    "result = torch.empty (5, 3)\n",
    "torch.add (x, y, out = result)\n",
    "print (result)"
   ]
  },
  {
   "cell_type": "code",
   "execution_count": 18,
   "metadata": {},
   "outputs": [
    {
     "data": {
      "text/plain": [
       "tensor([0.4625, 0.2882, 0.5100, 0.0932, 0.5581], dtype=torch.float64)"
      ]
     },
     "execution_count": 18,
     "metadata": {},
     "output_type": "execute_result"
    }
   ],
   "source": [
    "# 7 类似与nummpy的操作\n",
    "x[:, 0]"
   ]
  },
  {
   "cell_type": "code",
   "execution_count": 19,
   "metadata": {},
   "outputs": [
    {
     "data": {
      "text/plain": [
       "tensor([0.4625, 0.1904, 0.5519], dtype=torch.float64)"
      ]
     },
     "execution_count": 19,
     "metadata": {},
     "output_type": "execute_result"
    }
   ],
   "source": [
    "x[0 , :]"
   ]
  },
  {
   "cell_type": "code",
   "execution_count": null,
   "metadata": {
    "collapsed": true
   },
   "outputs": [],
   "source": []
  }
 ],
 "metadata": {
  "kernelspec": {
   "display_name": "Python [conda env:torchenv]",
   "language": "python",
   "name": "conda-env-torchenv-py"
  },
  "language_info": {
   "codemirror_mode": {
    "name": "ipython",
    "version": 3
   },
   "file_extension": ".py",
   "mimetype": "text/x-python",
   "name": "python",
   "nbconvert_exporter": "python",
   "pygments_lexer": "ipython3",
   "version": "3.6.2"
  }
 },
 "nbformat": 4,
 "nbformat_minor": 2
}
